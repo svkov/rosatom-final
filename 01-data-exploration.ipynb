{
 "cells": [
  {
   "cell_type": "code",
   "execution_count": 1,
   "id": "2db26d21-ab3c-494d-bfbc-71100c2273e4",
   "metadata": {},
   "outputs": [],
   "source": [
    "import pandas as pd\n",
    "import numpy as np\n",
    "import matplotlib.pyplot as plt\n",
    "import os"
   ]
  },
  {
   "cell_type": "markdown",
   "id": "65853770",
   "metadata": {},
   "source": [
    "# Что удалось выяснить\n",
    "\n",
    "Для запуска лучше использовать `docker compose` с установленным eo-learn. Либу сложно и долго ставить на винду.\n",
    "\n",
    "Пикл-файлы:\n",
    "- bbox - объект BBox со значениями координат (широта и долгота) левого верхнего и правого нижнего края квадрата\n",
    "- meta_info\n",
    "```\n",
    "{'size_x': 64,\n",
    " 'size_y': 64,\n",
    " 'time_interval': (datetime.datetime(2021, 6, 1, 0, 0),\n",
    "  datetime.datetime(2021, 12, 31, 23, 59, 59)),\n",
    " 'maxcc': 0.5,\n",
    " 'time_difference': datetime.timedelta(seconds=3600),\n",
    " 'resolution': 10}\n",
    " ```\n",
    " - timestamp - список datetime, в которые делались снимки\n",
    "\n",
    "\n",
    "Маски:\n",
    "- CLD - вроде норм показывает облака\n",
    "- CLP - тоже вроде норм\n",
    "- CLM - тоже относится к облакам, но из того что я посмотрел ничего не показывало (везде нули)\n",
    "- IS_DATA - пока хз, везде нули\n",
    "- SCL - Scene Classification map, показывает трубопровод, но не факт что должен\n",
    "- SNW - хочется верить, что это снег, но хз"
   ]
  },
  {
   "cell_type": "code",
   "execution_count": 5,
   "id": "7457865e",
   "metadata": {},
   "outputs": [],
   "source": [
    "from read_data import load_numpy_gz, load_pickle_gz, read_image, read_timestamp, show_rgb, read_bbox"
   ]
  },
  {
   "cell_type": "code",
   "execution_count": 3,
   "id": "4c7896e1",
   "metadata": {},
   "outputs": [],
   "source": [
    "path_to_dir = 'data/images/2021-01/1a0f2eb8-2529-4057-ad9e-e4a8cf542d0a/sentinel2-l2a/patches/64x64-10/2021/'"
   ]
  },
  {
   "cell_type": "code",
   "execution_count": 8,
   "id": "dd49bfa2",
   "metadata": {},
   "outputs": [
    {
     "data": {
      "text/plain": [
       "((64.97835190141572, 61.27648041756898),\n",
       " (64.99064527279144, 61.28204810415651))"
      ]
     },
     "execution_count": 8,
     "metadata": {},
     "output_type": "execute_result"
    }
   ],
   "source": [
    "data = read_bbox(path_to_dir)\n",
    "data"
   ]
  },
  {
   "cell_type": "markdown",
   "id": "89ebe52c",
   "metadata": {},
   "source": [
    "Вот так можно вывести маску и изображение\n",
    "\n",
    "В show_rgb выбираются [3, 2, 1] слои, потому что именно они отвечают за RGB"
   ]
  },
  {
   "cell_type": "code",
   "execution_count": 10,
   "id": "1a8d96de",
   "metadata": {},
   "outputs": [
    {
     "name": "stderr",
     "output_type": "stream",
     "text": [
      "Clipping input data to the valid range for imshow with RGB data ([0..1] for floats or [0..255] for integers).\n"
     ]
    },
    {
     "data": {
      "image/png": "[encoded data removed]",
      "text/plain": [
       "<Figure size 432x288 with 1 Axes>"
      ]
     },
     "metadata": {
      "needs_background": "light"
     },
     "output_type": "display_data"
    },
    {
     "data": {
      "image/png": "[encoded data removed]",
      "text/plain": [
       "<Figure size 432x288 with 1 Axes>"
      ]
     },
     "metadata": {
      "needs_background": "light"
     },
     "output_type": "display_data"
    }
   ],
   "source": [
    "i = 1\n",
    "path = os.path.join(path_to_dir, 'mask', 'CLD.npy.gz')\n",
    "mask = load_numpy_gz(path)\n",
    "plt.imshow(mask[i, :, :, :])\n",
    "plt.figure()\n",
    "img = read_image(path_to_dir)\n",
    "# img[mask > 0] = 0\n",
    "show_rgb(img, i=i)"
   ]
  }
 ],
 "metadata": {
  "kernelspec": {
   "display_name": "Python 3 (ipykernel)",
   "language": "python",
   "name": "python3"
  },
  "language_info": {
   "codemirror_mode": {
    "name": "ipython",
    "version": 3
   },
   "file_extension": ".py",
   "mimetype": "text/x-python",
   "name": "python",
   "nbconvert_exporter": "python",
   "pygments_lexer": "ipython3",
   "version": "3.8.12"
  }
 },
 "nbformat": 4,
 "nbformat_minor": 5
}
