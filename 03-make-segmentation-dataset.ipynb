{
 "cells": [
  {
   "cell_type": "code",
   "execution_count": 26,
   "id": "ec157270-57cc-469c-a474-8f5f66be9027",
   "metadata": {},
   "outputs": [],
   "source": [
    "import pandas as pd\n",
    "import numpy as np\n",
    "import matplotlib.pyplot as plt\n",
    "import os"
   ]
  },
  {
   "cell_type": "code",
   "execution_count": 3,
   "id": "13743da6-4ae0-4149-8d1d-89a38562b27c",
   "metadata": {},
   "outputs": [],
   "source": [
    "%load_ext autoreload\n",
    "%autoreload 2"
   ]
  },
  {
   "cell_type": "code",
   "execution_count": 23,
   "id": "9fee8f00-21a6-4291-88ca-653a6315ae77",
   "metadata": {},
   "outputs": [],
   "source": [
    "from read_data import read_image, load_numpy_gz, read_mask_scl, show_rgb"
   ]
  },
  {
   "cell_type": "code",
   "execution_count": 39,
   "id": "b68795c8-f2cc-44b1-aa41-e961fbdebf4b",
   "metadata": {},
   "outputs": [],
   "source": [
    "path_dir = 'data/images/Разметка/2017-01'\n",
    "masks = []\n",
    "images = []\n",
    "for i in os.listdir(path_dir):\n",
    "    try:\n",
    "        path_to_file = os.path.join(path_dir, i)\n",
    "        masks.append(read_mask_scl(path_to_file))\n",
    "        images.append(read_image(path_to_file))\n",
    "    except FileNotFoundError:\n",
    "        continue"
   ]
  },
  {
   "cell_type": "code",
   "execution_count": 49,
   "id": "5d851339-d7b8-40cb-92d4-3637e14da044",
   "metadata": {},
   "outputs": [
    {
     "ename": "FileExistsError",
     "evalue": "[WinError 183] Невозможно создать файл, так как он уже существует: 'data/segmentation'",
     "output_type": "error",
     "traceback": [
      "\u001b[1;31m---------------------------------------------------------------------------\u001b[0m",
      "\u001b[1;31mFileExistsError\u001b[0m                           Traceback (most recent call last)",
      "\u001b[1;32m~\\AppData\\Local\\Temp/ipykernel_14224/2240293539.py\u001b[0m in \u001b[0;36m<module>\u001b[1;34m\u001b[0m\n\u001b[1;32m----> 1\u001b[1;33m \u001b[0mos\u001b[0m\u001b[1;33m.\u001b[0m\u001b[0mmkdir\u001b[0m\u001b[1;33m(\u001b[0m\u001b[1;34m'data/segmentation'\u001b[0m\u001b[1;33m)\u001b[0m\u001b[1;33m\u001b[0m\u001b[1;33m\u001b[0m\u001b[0m\n\u001b[0m\u001b[0;32m      2\u001b[0m \u001b[0mos\u001b[0m\u001b[1;33m.\u001b[0m\u001b[0mmkdir\u001b[0m\u001b[1;33m(\u001b[0m\u001b[1;34m'data/seg_images'\u001b[0m\u001b[1;33m)\u001b[0m\u001b[1;33m\u001b[0m\u001b[1;33m\u001b[0m\u001b[0m\n",
      "\u001b[1;31mFileExistsError\u001b[0m: [WinError 183] Невозможно создать файл, так как он уже существует: 'data/segmentation'"
     ]
    }
   ],
   "source": [
    "os.mkdir('data/segmentation')\n",
    "os.mkdir('data/seg_images')"
   ]
  },
  {
   "cell_type": "code",
   "execution_count": 45,
   "id": "bb77422b-d18c-446f-812c-f09b09511134",
   "metadata": {},
   "outputs": [],
   "source": [
    "def save_list_of_arrays(l, path):\n",
    "    i = 0\n",
    "    for series in l:\n",
    "        for img in series:\n",
    "            i += 1\n",
    "            np.save(f'{path}/{i}.npy', img)"
   ]
  },
  {
   "cell_type": "code",
   "execution_count": 48,
   "id": "16091761-21a9-475e-b2b7-8d79a703439f",
   "metadata": {},
   "outputs": [],
   "source": [
    "save_list_of_arrays(masks, 'data/segmentation')\n",
    "save_list_of_arrays(images, 'data/seg_images')"
   ]
  },
  {
   "cell_type": "code",
   "execution_count": 22,
   "id": "eae3f253-409b-4ceb-acf1-db77434b1f04",
   "metadata": {},
   "outputs": [
    {
     "data": {
      "text/plain": [
       "<matplotlib.image.AxesImage at 0x20ba5059760>"
      ]
     },
     "execution_count": 22,
     "metadata": {},
     "output_type": "execute_result"
    },
    {
     "data": {
      "image/png": "[encoded data removed]",
      "text/plain": [
       "<Figure size 432x288 with 1 Axes>"
      ]
     },
     "metadata": {
      "needs_background": "light"
     },
     "output_type": "display_data"
    }
   ],
   "source": [
    "plt.imshow(img[3, ...])"
   ]
  },
  {
   "cell_type": "code",
   "execution_count": null,
   "id": "6feebc0c-1e50-4a17-b1be-c070335c8c7f",
   "metadata": {},
   "outputs": [],
   "source": []
  }
 ],
 "metadata": {
  "kernelspec": {
   "display_name": "Python 3 (ipykernel)",
   "language": "python",
   "name": "python3"
  },
  "language_info": {
   "codemirror_mode": {
    "name": "ipython",
    "version": 3
   },
   "file_extension": ".py",
   "mimetype": "text/x-python",
   "name": "python",
   "nbconvert_exporter": "python",
   "pygments_lexer": "ipython3",
   "version": "3.8.8"
  }
 },
 "nbformat": 4,
 "nbformat_minor": 5
}
