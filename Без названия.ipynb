{
 "cells": [
  {
   "cell_type": "code",
   "execution_count": null,
   "id": "9a01c734-a044-4a6e-84ad-faf8418b2c1f",
   "metadata": {},
   "outputs": [],
   "source": [
    "page_num = 1\n",
    "url = f'https://rostender.info/category/tendery-larn?active_filter=1&kladr81=on&page={page_num}'"
   ]
  }
 ],
 "metadata": {
  "kernelspec": {
   "display_name": "Python 3 (ipykernel)",
   "language": "python",
   "name": "python3"
  },
  "language_info": {
   "codemirror_mode": {
    "name": "ipython",
    "version": 3
   },
   "file_extension": ".py",
   "mimetype": "text/x-python",
   "name": "python",
   "nbconvert_exporter": "python",
   "pygments_lexer": "ipython3",
   "version": "3.8.8"
  }
 },
 "nbformat": 4,
 "nbformat_minor": 5
}
